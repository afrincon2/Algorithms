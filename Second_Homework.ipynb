{
 "cells": [
  {
   "attachments": {},
   "cell_type": "markdown",
   "metadata": {},
   "source": [
    "#### Write a pseudocode for selection sort\n",
    "\n",
    "- During each iteration we'll select the smallest item from the unsorted partition and move it to the sorted partition\n",
    "\n",
    "$for(j=0;j<n-1;j++)$\n",
    "\n",
    "$\\quad int \\text{ } iMin=j;$\n",
    "    \n",
    "$ \\quad for(i=j+1;i<n;i++)$\n",
    "\n",
    "$\\quad \\quad \\text{if}(a[i]<a[iMin]) $\n",
    "\n",
    "$\\quad \\quad \\quad iMin=i;$\n",
    "\n",
    "$\\quad \\text{if}(iMin \\text{ }!=j)$\n",
    "\n",
    "$\\quad \\quad swap(a[j],a[iMin]);$\n",
    "        "
   ]
  },
  {
   "attachments": {},
   "cell_type": "markdown",
   "metadata": {},
   "source": [
    "### Homework\n",
    "\n",
    "#### Write the pseudocode to insertion sort and calculate the complexity\n",
    "\n"
   ]
  }
 ],
 "metadata": {
  "language_info": {
   "name": "python"
  },
  "orig_nbformat": 4
 },
 "nbformat": 4,
 "nbformat_minor": 2
}
