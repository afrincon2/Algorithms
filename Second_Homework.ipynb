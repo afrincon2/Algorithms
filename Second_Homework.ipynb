{
 "cells": [
  {
   "attachments": {},
   "cell_type": "markdown",
   "metadata": {},
   "source": [
    "#### Write a pseudocode for selection sort\n",
    "\n",
    "- During each iteration we'll select the smallest item from the unsorted partition and move it to the sorted partition\n",
    "\n",
    "$for(j=0;j<n-1;j++)$                      -> O(n-1)\n",
    "\n",
    "$\\quad int \\text{ } iMin=j;$              -> O(1)\n",
    "    \n",
    "$ \\quad for(i=j+1;i<n;i++)$               -> O(n-1)\n",
    "\n",
    "$\\quad \\quad \\text{if}(a[i]<a[iMin]) $    -> O(1)\n",
    "\n",
    "$\\quad \\quad \\quad iMin=i;$               -> O(1)\n",
    "\n",
    "$\\quad \\text{if}(iMin \\text{ }!=j)$       -> O(1)\n",
    "\n",
    "$\\quad \\quad swap(a[j],a[iMin]);$         -> O(1)\n",
    "\n",
    "\n",
    "|n|O(n) =O(n^2)\n",
    "        "
   ]
  },
  {
   "attachments": {},
   "cell_type": "markdown",
   "metadata": {},
   "source": [
    "### Homework\n",
    "\n",
    "#### Write the pseudocode to insertion sort and calculate the complexity\n",
    "\n",
    "$for(j=0;j<n-1;j++)$                                 ->O(n)\n",
    "\n",
    "$\\quad j=i$                                          ->O(1)\n",
    "\n",
    "$\\quad while ( j>0 \\text{ and } A[j-1]>A[j]$)  ->O(n)\n",
    "\n",
    "$\\quad \\quad swap \\text{ } A[j] \\text{ and } A[j-1]$          ->O(1)\n",
    " \n",
    "$\\quad \\quad j=j-1$                                  ->O(1)\n",
    "\n",
    "|n|O(n)->O(n^2)"
   ]
  },
  {
   "cell_type": "code",
   "execution_count": 20,
   "metadata": {},
   "outputs": [
    {
     "name": "stdout",
     "output_type": "stream",
     "text": [
      "[1, 1, 5, 6, 12, 19, 23, 34, 78, 98]\n"
     ]
    }
   ],
   "source": [
    "#Example:\n",
    "A=[1,23,34,5,6,12,78,98,1,19]\n",
    "for i in range(len(A)):\n",
    "    j=i\n",
    "    while j>0 and A[j-1]>A[j]:\n",
    "        cont=A[j-1]\n",
    "        A[j-1]=A[j]\n",
    "        A[j]=cont\n",
    "        j=j-1\n",
    "print(A)\n"
   ]
  },
  {
   "attachments": {},
   "cell_type": "markdown",
   "metadata": {},
   "source": [
    "#### Write the pseudocode of a methid that given a number n returns the list of Fibonacci numbers, from 0 to n. Calculate the complexity.\n",
    "\n",
    "$if(n=0):$\n",
    "\n",
    "$\\quad print(0)$\n",
    "\n",
    "$if(n=1):$\n",
    "\n",
    "$\\quad print(0,1)$\n",
    "\n",
    "$if(n=2):$\n",
    "\n",
    "$\\quad print(0,1,1)$\n",
    "\n",
    "$else:$\n",
    "\n",
    "$\\quad A=[0,0,1]$\n",
    "\n",
    "$\\quad while (n-3>0):$ -> O(n-3)->O(n)\n",
    "\n",
    "$\\quad \\quad number=A[-1]+A[-2]$\n",
    "\n",
    "$\\quad \\quad \\text{A append (number)}$\n",
    "\n",
    "$n-=1$\n",
    "\n",
    "$\\quad print(A)$\n",
    "\n",
    "The complexity is O(n)"
   ]
  },
  {
   "cell_type": "code",
   "execution_count": 21,
   "metadata": {},
   "outputs": [
    {
     "name": "stdout",
     "output_type": "stream",
     "text": [
      "[0, 1, 1, 2, 3]\n"
     ]
    }
   ],
   "source": [
    "#Example\n",
    "n=5\n",
    "if n==0:\n",
    "    print(0)\n",
    "elif n==1:\n",
    "    print(0,1)\n",
    "elif n==2:\n",
    "    print(0,1,1)\n",
    "else:\n",
    "    number=[0,1,1]\n",
    "    while n-3>0:\n",
    "        add=number[-1]+number[-2]\n",
    "        number.append(add)\n",
    "        n-=1\n",
    "    print(number)"
   ]
  },
  {
   "attachments": {},
   "cell_type": "markdown",
   "metadata": {},
   "source": [
    "#### Write an algorithm that finds the convex hull\n",
    "\n"
   ]
  },
  {
   "attachments": {},
   "cell_type": "markdown",
   "metadata": {},
   "source": [
    "##### Convex Hull using Jarvis’ Algorithm or Wrapping\n",
    "\n",
    "\n",
    "The Jarvis March algorithm, also known as the Gift Wrapping algorithm, is a simple and intuitive method for finding the convex hull of a set of points. Here's how it works:\n",
    "\n",
    "1- Select the leftmost point in the set of points as the starting point.\n",
    "\n",
    "2- Iterate through all the points in the set and select the point that is farthest from the line formed by the current point and the starting point.\n",
    "\n",
    "3- Mark this point as the next point on the convex hull.\n",
    "\n",
    "4- Repeat steps 2 and 3 until the next point is the starting point.\n",
    "\n",
    "5- The set of points that have been selected form the convex hull.\n",
    "\n",
    "This algorithm has a time complexity of O(n^2), where n is the number of points in the set, making it inefficient for large sets of points. However, it is simple to implement and is a good starting point for understanding how convex hull algorithms work.\n",
    "\n",
    "\n",
    "\n",
    "\n"
   ]
  },
  {
   "cell_type": "code",
   "execution_count": 40,
   "metadata": {},
   "outputs": [
    {
     "name": "stdout",
     "output_type": "stream",
     "text": [
      "[(9.190995507317316, 14.578554816290728), (7.900510135262673, 5.946952671305303), (3.1680041672154813, 17.856183028531966), (13.011664843054563, 15.736213032168164), (8.744912031206518, 4.112030942870644), (5.689632506342138, 6.141765674227406), (19.48124935436614, 2.221494200955436), (2.104274969226705, 9.20634913406072), (12.718022960884275, 3.310723524899961), (14.43688334965894, 14.758312661442705), (0.028783505786611485, 11.282871125870894), (18.94292451920753, 10.101831917730479), (14.184847907822867, 3.956192165289547), (10.779793549705495, 8.213142521140547), (15.997426252089381, 11.881625231253174), (5.299614730821274, 16.622991895746143), (3.7215001063016584, 1.4469552515893458), (12.875064641776355, 2.1468064998925884), (8.939349846135595, 17.929678274677908), (17.38600947262451, 2.947852623047049), (7.733300453585916, 2.445700643158233), (18.597167366475574, 7.252237128876393), (14.457094165183245, 8.803708182222557), (12.824900686760632, 2.7936486346790423), (15.24761696245821, 6.4399989447957795), (13.315717844335582, 15.326284209159894), (19.380319413176245, 19.28441217141622), (7.158012849697126, 0.7054026820563419), (6.720317302533267, 13.118474159327526), (18.6595645355396, 10.475472756986647), (0.8385618172338938, 14.456006026363166), (2.160825111965705, 13.456818769660151), (9.054357758043349, 11.468666717796916), (16.26104602859208, 14.19527013556701), (13.324640839820727, 7.6903919394539955), (3.087995802858443, 10.28551133822152), (17.387364722478566, 12.209139605855562), (16.716758522704318, 15.463215924182771), (2.868678690705919, 6.045328509403056), (12.79306321435486, 18.201091172813527)]\n",
      "11.282871125870894\n"
     ]
    },
    {
     "data": {
      "image/png": "[encoded data removed]",
      "text/plain": [
       "<Figure size 640x480 with 1 Axes>"
      ]
     },
     "metadata": {},
     "output_type": "display_data"
    }
   ],
   "source": [
    "import matplotlib.pyplot as plt\n",
    "def JarvisMarch(points):\n",
    "    n = len(points)\n",
    "    # Find the leftmost point\n",
    "    start = 0\n",
    "    for i in range(1, n):\n",
    "        if points[i][0] < points[start][0]:\n",
    "            start = i\n",
    "    p = start\n",
    "    hull = []\n",
    "    while True:\n",
    "        # Add the point to the hull\n",
    "        hull.append(points[p])\n",
    "        q = (p + 1) % n\n",
    "        for i in range(n):\n",
    "            # Find the farthest point from the line formed by the current point and the starting point\n",
    "            if (points[i][1] - points[p][1]) * (points[q][0] - points[p][0]) > (points[q][1] - points[p][1]) * (points[i][0] - points[p][0]):\n",
    "                q = i\n",
    "        p = q\n",
    "        # If we have reached the starting point, stop\n",
    "        if p == start:\n",
    "            break\n",
    "    return hull\n",
    "\n",
    "# Example usage\n",
    "import random\n",
    "\n",
    "def generate_points(n):\n",
    "    points = []\n",
    "    for i in range(n):\n",
    "        x = random.uniform(0, 1)*20\n",
    "        y = random.uniform(0, 1)*20\n",
    "        points.append((x, y))\n",
    "    return points\n",
    "\n",
    "# Example usage\n",
    "points = generate_points(40)\n",
    "x=[x[0] for x in points]\n",
    "y=[x[1] for x in points]\n",
    "result=JarvisMarch(points)\n",
    "x_result=[x[0] for x in result]\n",
    "y_result=[x[1] for x in result]\n",
    "plt.scatter(x,y)\n",
    "plt.plot(x_result+[x_result[0]],y_result+[y_result[0]],color=\"orange\")\n",
    "plt.show()\n",
    "\n",
    "\n",
    "\n"
   ]
  }
 ],
 "metadata": {
  "kernelspec": {
   "display_name": "Proba",
   "language": "python",
   "name": "python3"
  },
  "language_info": {
   "codemirror_mode": {
    "name": "ipython",
    "version": 3
   },
   "file_extension": ".py",
   "mimetype": "text/x-python",
   "name": "python",
   "nbconvert_exporter": "python",
   "pygments_lexer": "ipython3",
   "version": "3.9.16"
  },
  "orig_nbformat": 4,
  "vscode": {
   "interpreter": {
    "hash": "386a67da8db8d860de292f7014474f505a8164a977d669a32cf5b1e16dc71028"
   }
  }
 },
 "nbformat": 4,
 "nbformat_minor": 2
}
