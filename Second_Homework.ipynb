{
 "cells": [
  {
   "attachments": {},
   "cell_type": "markdown",
   "metadata": {},
   "source": [
    "#### Write a pseudocode for selection sort\n",
    "\n",
    "- During each iteration we'll select the smallest item from the unsorted partition and move it to the sorted partition\n",
    "\n",
    "$for(j=0;j<n-1;j++)$                      -> O(n-1)\n",
    "\n",
    "$\\quad int \\text{ } iMin=j;$              -> O(1)\n",
    "    \n",
    "$ \\quad for(i=j+1;i<n;i++)$               -> O(n-1)\n",
    "\n",
    "$\\quad \\quad \\text{if}(a[i]<a[iMin]) $    -> O(1)\n",
    "\n",
    "$\\quad \\quad \\quad iMin=i;$               -> O(1)\n",
    "\n",
    "$\\quad \\text{if}(iMin \\text{ }!=j)$       -> O(1)\n",
    "\n",
    "$\\quad \\quad swap(a[j],a[iMin]);$         -> O(1)\n",
    "\n",
    "\n",
    "|n|O(n) =O(n^2)\n",
    "        "
   ]
  },
  {
   "attachments": {},
   "cell_type": "markdown",
   "metadata": {},
   "source": [
    "### Homework\n",
    "\n",
    "#### Write the pseudocode to insertion sort and calculate the complexity\n",
    "\n",
    "$for(j=0;j<n-1;j++)$                                 ->O(n)\n",
    "\n",
    "$\\quad j=i$                                          ->O(1)\n",
    "\n",
    "$\\quad while ( j>0 \\text{ and } A[j-1]>A[j]$)  ->O(n)\n",
    "\n",
    "$\\quad \\quad swap \\text{ } A[j] \\text{ and } A[j-1]$          ->O(1)\n",
    " \n",
    "$\\quad \\quad j=j-1$                                  ->O(1)\n",
    "\n",
    "|n|O(n)->O(n^2)"
   ]
  },
  {
   "cell_type": "code",
   "execution_count": 20,
   "metadata": {},
   "outputs": [
    {
     "name": "stdout",
     "output_type": "stream",
     "text": [
      "[1, 1, 5, 6, 12, 19, 23, 34, 78, 98]\n"
     ]
    }
   ],
   "source": [
    "#Example:\n",
    "A=[1,23,34,5,6,12,78,98,1,19]\n",
    "for i in range(len(A)):\n",
    "    j=i\n",
    "    while j>0 and A[j-1]>A[j]:\n",
    "        cont=A[j-1]\n",
    "        A[j-1]=A[j]\n",
    "        A[j]=cont\n",
    "        j=j-1\n",
    "print(A)\n"
   ]
  },
  {
   "attachments": {},
   "cell_type": "markdown",
   "metadata": {},
   "source": [
    "#### Write the pseudocode of a methid that given a number n returns the list of Fibonacci numbers, from 0 to n. Calculate the complexity.\n",
    "\n",
    "$if(n=0):$\n",
    "\n",
    "$\\quad print(0)$\n",
    "\n",
    "$if(n=1):$\n",
    "\n",
    "$\\quad print(0,1)$\n",
    "\n",
    "$if(n=2):$\n",
    "\n",
    "$\\quad print(0,1,1)$\n",
    "\n",
    "$else:$\n",
    "\n",
    "$\\quad A=[0,0,1]$\n",
    "\n",
    "$\\quad while (n-3>0):$ -> O(n-3)->O(n)\n",
    "\n",
    "$\\quad \\quad number=A[-1]+A[-2]$\n",
    "\n",
    "$\\quad \\quad \\text{A append (number)}$\n",
    "\n",
    "$n-=1$\n",
    "\n",
    "$\\quad print(A)$\n",
    "\n",
    "The complexity is O(n)"
   ]
  },
  {
   "cell_type": "code",
   "execution_count": 21,
   "metadata": {},
   "outputs": [
    {
     "name": "stdout",
     "output_type": "stream",
     "text": [
      "[0, 1, 1, 2, 3]\n"
     ]
    }
   ],
   "source": [
    "#Example\n",
    "n=5\n",
    "if n==0:\n",
    "    print(0)\n",
    "elif n==1:\n",
    "    print(0,1)\n",
    "elif n==2:\n",
    "    print(0,1,1)\n",
    "else:\n",
    "    number=[0,1,1]\n",
    "    while n-3>0:\n",
    "        add=number[-1]+number[-2]\n",
    "        number.append(add)\n",
    "        n-=1\n",
    "    print(number)"
   ]
  },
  {
   "attachments": {},
   "cell_type": "markdown",
   "metadata": {},
   "source": [
    "#### Write an algorithm that finds the convex hull\n",
    "\n"
   ]
  },
  {
   "attachments": {},
   "cell_type": "markdown",
   "metadata": {},
   "source": [
    "##### Convex Hull using Jarvis’ Algorithm or Wrapping\n",
    "\n",
    "\n",
    " Algorithm:\n",
    "\n",
    "Step 1) Initialize p as leftmost point. \n",
    "\n",
    "Step 2) Do following while we don’t come back to the first (or leftmost) point. \n",
    "\n",
    "2.1) The next point q is the point, such that the triplet (p, q, r) is counter clockwise for any other point r. \n",
    "\n",
    "To find this, we simply initialize q as next point, then we traverse through all points. \n",
    "\n",
    "For any point i, if i is more counter clockwise, i.e., orientation(p, i, q) is counter clockwise, then we update q as i. \n",
    "\n",
    "Our final value of q is going to be the most counter clockwise point. \n",
    "\n",
    "2.2) next[p] = q (Store q as next of p in the output convex hull). \n",
    "\n",
    "2.3) p = q (Set p as q for next iteration).\n",
    "\n",
    "##### Convex Hull using Graham Scan\n",
    "\n",
    "Let points[0..n-1] be the input array.\n",
    "\n",
    "1) Find the bottom-most point by comparing y coordinate of all points. If there are two points with the same y value, then the point with smaller x coordinate value is considered. Let the bottom-most point be P0. Put P0 at first position in output hull.\n",
    "\n",
    "2) Consider the remaining n-1 points and sort them by polar angle in counterclockwise order around points[0]. If the polar angle of two points is the same, then put the nearest point first. \n",
    "\n",
    "3 After sorting, check if two or more points have the same angle. If two more points have the same angle, then remove all same angle points except the point farthest from P0. Let the size of the new array be m.\n",
    "\n",
    "4) If m is less than 3, return (Convex Hull not possible)\n",
    "\n",
    "5) Create an empty stack ‘S’ and push points[0], points[1] and points[2] to S.\n",
    "\n",
    "6) Process remaining m-3 points one by one. Do following for every point ‘points[i]’ \n",
    "\n",
    "        4.1) Keep removing points from stack while orientation of following 3 points is not counterclockwise (or they don’t make a left turn). \n",
    "        \n",
    "            a) Point next to top in stack \n",
    "            b) Point at the top of stack \n",
    "            c) points[i] \n",
    "         4.2) Push points[i] to S\n",
    "5) Print contents of S\n",
    "The above algorithm can be divided into two phases.\n",
    "\n",
    "The above algorithm can be divided into two phases.\n",
    "Phase 1 (Sort points): We first find the bottom-most point. The idea is to pre-process points be sorting them with respect to the bottom-most point. Once the points are sorted, they form a simple closed path (See the following diagram). \n",
    "\n",
    "What should be the sorting criteria? computation of actual angles would be inefficient since trigonometric functions are not simple to evaluate. The idea is to use the orientation to compare angles without actually computing them (See the compare() function below)\n",
    "\n",
    "Phase 2 (Accept or Reject Points): Once we have the closed path, the next step is to traverse the path and remove concave points on this path. How to decide which point to remove and which to keep? Again, orientation helps here. The first two points in sorted array are always part of Convex Hull. For remaining points, we keep track of recent three points, and find the angle formed by them. Let the three points be prev(p), curr(c) and next(n). If orientation of these points (considering them in same order) is not counterclockwise, we discard c, otherwise we keep it. Following diagram shows step by step process of this phase.\n",
    "\n"
   ]
  },
  {
   "cell_type": "code",
   "execution_count": 49,
   "metadata": {},
   "outputs": [
    {
     "name": "stdout",
     "output_type": "stream",
     "text": [
      "[9 0]\n"
     ]
    }
   ],
   "source": [
    "\n",
    "\n",
    "\n"
   ]
  }
 ],
 "metadata": {
  "kernelspec": {
   "display_name": "Proba",
   "language": "python",
   "name": "python3"
  },
  "language_info": {
   "codemirror_mode": {
    "name": "ipython",
    "version": 3
   },
   "file_extension": ".py",
   "mimetype": "text/x-python",
   "name": "python",
   "nbconvert_exporter": "python",
   "pygments_lexer": "ipython3",
   "version": "3.9.16"
  },
  "orig_nbformat": 4,
  "vscode": {
   "interpreter": {
    "hash": "386a67da8db8d860de292f7014474f505a8164a977d669a32cf5b1e16dc71028"
   }
  }
 },
 "nbformat": 4,
 "nbformat_minor": 2
}
