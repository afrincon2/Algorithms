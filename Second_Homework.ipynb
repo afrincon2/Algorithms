{
 "cells": [
  {
   "attachments": {},
   "cell_type": "markdown",
   "metadata": {},
   "source": [
    "#### Write a pseudocode for selection sort\n",
    "\n",
    "- During each iteration we'll select the smallest item from the unsorted partition and move it to the sorted partition\n",
    "\n",
    "$for(j=0;j<n-1;j++)$                      -> O(n-1)\n",
    "\n",
    "$\\quad int \\text{ } iMin=j;$              -> O(1)\n",
    "    \n",
    "$ \\quad for(i=j+1;i<n;i++)$               -> O(n-1)\n",
    "\n",
    "$\\quad \\quad \\text{if}(a[i]<a[iMin]) $    -> O(1)\n",
    "\n",
    "$\\quad \\quad \\quad iMin=i;$               -> O(1)\n",
    "\n",
    "$\\quad \\text{if}(iMin \\text{ }!=j)$       -> O(1)\n",
    "\n",
    "$\\quad \\quad swap(a[j],a[iMin]);$         -> O(1)\n",
    "\n",
    "\n",
    "|n|O(n) =O(n^2)\n",
    "        "
   ]
  },
  {
   "attachments": {},
   "cell_type": "markdown",
   "metadata": {},
   "source": [
    "### Homework\n",
    "\n",
    "#### Write the pseudocode to insertion sort and calculate the complexity\n",
    "\n",
    "$for(j=0;j<n-1;j++)$                                 ->O(n)\n",
    "\n",
    "$\\quad j=i$                                          ->O(1)\n",
    "\n",
    "$\\quad while ( j>0 \\text{ and } A[j-1]>A[j]$)  ->O(n)\n",
    "\n",
    "$\\quad \\quad swap \\text{ } A[j] \\text{ and } A[j-1]$          ->O(1)\n",
    " \n",
    "$\\quad \\quad j=j-1$                                  ->O(1)\n",
    "\n",
    "|n|O(n)->O(n^2)"
   ]
  },
  {
   "cell_type": "code",
   "execution_count": 20,
   "metadata": {},
   "outputs": [
    {
     "name": "stdout",
     "output_type": "stream",
     "text": [
      "[1, 1, 5, 6, 12, 19, 23, 34, 78, 98]\n"
     ]
    }
   ],
   "source": [
    "#Example:\n",
    "A=[1,23,34,5,6,12,78,98,1,19]\n",
    "for i in range(len(A)):\n",
    "    j=i\n",
    "    while j>0 and A[j-1]>A[j]:\n",
    "        cont=A[j-1]\n",
    "        A[j-1]=A[j]\n",
    "        A[j]=cont\n",
    "        j=j-1\n",
    "print(A)\n"
   ]
  },
  {
   "attachments": {},
   "cell_type": "markdown",
   "metadata": {},
   "source": [
    "#### Write the pseudocode of a methid that given a number n returns the list of Fibonacci numbers, from 0 to n. Calculate the complexity.\n",
    "\n",
    "$if(n=0):$\n",
    "\n",
    "$\\quad print(0)$\n",
    "\n",
    "$if(n=1):$\n",
    "\n",
    "$\\quad print(0,1)$\n",
    "\n",
    "$if(n=2):$\n",
    "\n",
    "$\\quad print(0,1,1)$\n",
    "\n",
    "$else:$\n",
    "\n",
    "$\\quad A=[0,0,1]$\n",
    "\n",
    "$\\quad while (n-3>0):$ -> O(n-3)->O(n)\n",
    "\n",
    "$\\quad \\quad number=A[-1]+A[-2]$\n",
    "\n",
    "$\\quad \\quad \\text{A append (number)}$\n",
    "\n",
    "$n-=1$\n",
    "\n",
    "$\\quad print(A)$\n",
    "\n",
    "The complexity is O(n)"
   ]
  },
  {
   "cell_type": "code",
   "execution_count": 21,
   "metadata": {},
   "outputs": [
    {
     "name": "stdout",
     "output_type": "stream",
     "text": [
      "[0, 1, 1, 2, 3]\n"
     ]
    }
   ],
   "source": [
    "#Example\n",
    "n=5\n",
    "if n==0:\n",
    "    print(0)\n",
    "elif n==1:\n",
    "    print(0,1)\n",
    "elif n==2:\n",
    "    print(0,1,1)\n",
    "else:\n",
    "    number=[0,1,1]\n",
    "    while n-3>0:\n",
    "        add=number[-1]+number[-2]\n",
    "        number.append(add)\n",
    "        n-=1\n",
    "    print(number)"
   ]
  },
  {
   "attachments": {},
   "cell_type": "markdown",
   "metadata": {},
   "source": [
    "#### Write an algorithm that finds the convex hull\n",
    "\n"
   ]
  }
 ],
 "metadata": {
  "kernelspec": {
   "display_name": "Proba",
   "language": "python",
   "name": "python3"
  },
  "language_info": {
   "codemirror_mode": {
    "name": "ipython",
    "version": 3
   },
   "file_extension": ".py",
   "mimetype": "text/x-python",
   "name": "python",
   "nbconvert_exporter": "python",
   "pygments_lexer": "ipython3",
   "version": "3.9.16"
  },
  "orig_nbformat": 4,
  "vscode": {
   "interpreter": {
    "hash": "386a67da8db8d860de292f7014474f505a8164a977d669a32cf5b1e16dc71028"
   }
  }
 },
 "nbformat": 4,
 "nbformat_minor": 2
}
