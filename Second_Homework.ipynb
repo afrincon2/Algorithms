{
 "cells": [
  {
   "attachments": {},
   "cell_type": "markdown",
   "metadata": {},
   "source": [
    "#### Write a pseudocode for selection sort\n",
    "\n",
    "- During each iteration we'll select the smallest item from the unsorted partition and move it to the sorted partition\n",
    "\n",
    "$for(j=0;j<n-1;j++)$                      -> O(n-1)\n",
    "\n",
    "$\\quad int \\text{ } iMin=j;$              -> O(1)\n",
    "    \n",
    "$ \\quad for(i=j+1;i<n;i++)$               -> O(n-1)\n",
    "\n",
    "$\\quad \\quad \\text{if}(a[i]<a[iMin]) $    -> O(1)\n",
    "\n",
    "$\\quad \\quad \\quad iMin=i;$               -> O(1)\n",
    "\n",
    "$\\quad \\text{if}(iMin \\text{ }!=j)$       -> O(1)\n",
    "\n",
    "$\\quad \\quad swap(a[j],a[iMin]);$         -> O(1)\n",
    "\n",
    "\n",
    "|n|O(n) =O(n^2)\n",
    "        "
   ]
  },
  {
   "attachments": {},
   "cell_type": "markdown",
   "metadata": {},
   "source": [
    "### Homework\n",
    "\n",
    "#### Write the pseudocode to insertion sort and calculate the complexity\n",
    "\n",
    "$for(j=0;j<n-1;j++)$                                 ->O(n)\n",
    "\n",
    "$\\quad j=i$                                          ->O(1)\n",
    "\n",
    "$\\quad while ( j>0 \\text{ and } A[j-1]>A[j]$)  ->O(n)\n",
    "\n",
    "$\\quad \\quad swap \\text{ } A[j] \\text{ and } A[j-1]$          ->O(1)\n",
    " \n",
    "$\\quad \\quad j=j-1$                                  ->O(1)\n",
    "\n",
    "|n|O(n)->O(n^2)"
   ]
  },
  {
   "cell_type": "code",
   "execution_count": 20,
   "metadata": {},
   "outputs": [
    {
     "name": "stdout",
     "output_type": "stream",
     "text": [
      "[1, 1, 5, 6, 12, 19, 23, 34, 78, 98]\n"
     ]
    }
   ],
   "source": [
    "#Example:\n",
    "A=[1,23,34,5,6,12,78,98,1,19]\n",
    "for i in range(len(A)):\n",
    "    j=i\n",
    "    while j>0 and A[j-1]>A[j]:\n",
    "        cont=A[j-1]\n",
    "        A[j-1]=A[j]\n",
    "        A[j]=cont\n",
    "        j=j-1\n",
    "print(A)\n"
   ]
  },
  {
   "attachments": {},
   "cell_type": "markdown",
   "metadata": {},
   "source": [
    "#### Write the pseudocode of a methid that given a number n returns the list of Fibonacci numbers, from 0 to n. Calculate the complexity.\n",
    "\n",
    "$if(n=0):$\n",
    "\n",
    "$\\quad print(0)$\n",
    "\n",
    "$if(n=1):$\n",
    "\n",
    "$\\quad print(0,1)$\n",
    "\n",
    "$if(n=2):$\n",
    "\n",
    "$\\quad print(0,1,1)$\n",
    "\n",
    "$else:$\n",
    "\n",
    "$\\quad A=[0,0,1]$\n",
    "\n",
    "$\\quad while (n-3>0):$ -> O(n-3)->O(n)\n",
    "\n",
    "$\\quad \\quad number=A[-1]+A[-2]$\n",
    "\n",
    "$\\quad \\quad \\text{A append (number)}$\n",
    "\n",
    "$n-=1$\n",
    "\n",
    "$\\quad print(A)$\n",
    "\n",
    "The complexity is O(n)"
   ]
  },
  {
   "cell_type": "code",
   "execution_count": 21,
   "metadata": {},
   "outputs": [
    {
     "name": "stdout",
     "output_type": "stream",
     "text": [
      "[0, 1, 1, 2, 3]\n"
     ]
    }
   ],
   "source": [
    "#Example\n",
    "n=5\n",
    "if n==0:\n",
    "    print(0)\n",
    "elif n==1:\n",
    "    print(0,1)\n",
    "elif n==2:\n",
    "    print(0,1,1)\n",
    "else:\n",
    "    number=[0,1,1]\n",
    "    while n-3>0:\n",
    "        add=number[-1]+number[-2]\n",
    "        number.append(add)\n",
    "        n-=1\n",
    "    print(number)"
   ]
  },
  {
   "attachments": {},
   "cell_type": "markdown",
   "metadata": {},
   "source": [
    "#### Write an algorithm that finds the convex hull\n",
    "\n"
   ]
  },
  {
   "attachments": {},
   "cell_type": "markdown",
   "metadata": {},
   "source": [
    "##### Convex Hull using Jarvis’ Algorithm or Wrapping\n",
    "\n",
    "\n",
    "The Jarvis March algorithm, also known as the Gift Wrapping algorithm, is a simple and intuitive method for finding the convex hull of a set of points. Here's how it works:\n",
    "\n",
    "1- Select the leftmost point in the set of points as the starting point.\n",
    "\n",
    "2- Iterate through all the points in the set and select the point that is farthest from the line formed by the current point and the starting point.\n",
    "\n",
    "3- Mark this point as the next point on the convex hull.\n",
    "\n",
    "4- Repeat steps 2 and 3 until the next point is the starting point.\n",
    "\n",
    "5- The set of points that have been selected form the convex hull.\n",
    "\n",
    "This algorithm has a time complexity of O(n^2), where n is the number of points in the set, making it inefficient for large sets of points. However, it is simple to implement and is a good starting point for understanding how convex hull algorithms work.\n",
    "\n",
    "\n",
    "\n",
    "\n"
   ]
  },
  {
   "cell_type": "code",
   "execution_count": 51,
   "metadata": {},
   "outputs": [
    {
     "name": "stdout",
     "output_type": "stream",
     "text": [
      "1\n",
      "2 1 10\n",
      "6 5 10\n",
      "7 6 10\n",
      "1 0 10\n",
      "0 9 10\n",
      "8 7 10\n",
      "9 8 10\n"
     ]
    },
    {
     "data": {
      "image/png": "[encoded data removed]",
      "text/plain": [
       "<Figure size 640x480 with 1 Axes>"
      ]
     },
     "metadata": {},
     "output_type": "display_data"
    }
   ],
   "source": [
    "import matplotlib.pyplot as plt\n",
    "import random\n",
    "\n",
    "def generate_points(n):\n",
    "    points = []\n",
    "    for i in range(n):\n",
    "        x = random.uniform(0, 1)*20\n",
    "        y = random.uniform(0, 1)*20\n",
    "        points.append((x, y))\n",
    "    return points\n",
    "\n",
    "# Example usage\n",
    "points = generate_points(10)\n",
    "n = len(points)\n",
    "# Find the leftmost point\n",
    "start = 0\n",
    "for i in range(1, n):\n",
    "    if points[i][0] < points[start][0]:\n",
    "        start = i\n",
    "p = start\n",
    "print(p)\n",
    "hull = []\n",
    "while True:\n",
    "    # Add the point to the hull\n",
    "    hull.append(points[p])\n",
    "    q = (p + 1) % n\n",
    "    print(q,p,n)\n",
    "    for i in range(n):\n",
    "        # Find the farthest point from the line formed by the current point and the starting point\n",
    "        if (points[i][1] - points[p][1]) * (points[q][0] - points[p][0]) > (points[q][1] - points[p][1]) * (points[i][0] - points[p][0]):\n",
    "            q = i\n",
    "    p = q\n",
    "    # If we have reached the starting point, stop\n",
    "    if p == start:\n",
    "        break\n",
    "\n",
    "\n",
    "x=[x[0] for x in points]\n",
    "y=[x[1] for x in points]\n",
    "x_result=[x[0] for x in hull]\n",
    "y_result=[x[1] for x in hull]\n",
    "plt.scatter(x,y)\n",
    "plt.plot(x_result+[x_result[0]],y_result+[y_result[0]],color=\"orange\")\n",
    "plt.show()\n",
    "\n",
    "\n",
    "\n"
   ]
  }
 ],
 "metadata": {
  "kernelspec": {
   "display_name": "Proba",
   "language": "python",
   "name": "python3"
  },
  "language_info": {
   "codemirror_mode": {
    "name": "ipython",
    "version": 3
   },
   "file_extension": ".py",
   "mimetype": "text/x-python",
   "name": "python",
   "nbconvert_exporter": "python",
   "pygments_lexer": "ipython3",
   "version": "3.9.16"
  },
  "orig_nbformat": 4,
  "vscode": {
   "interpreter": {
    "hash": "386a67da8db8d860de292f7014474f505a8164a977d669a32cf5b1e16dc71028"
   }
  }
 },
 "nbformat": 4,
 "nbformat_minor": 2
}
