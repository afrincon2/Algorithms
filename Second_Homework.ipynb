{
 "cells": [
  {
   "attachments": {},
   "cell_type": "markdown",
   "metadata": {},
   "source": [
    "#### Write a pseudocode for selection sort\n",
    "\n",
    "- During each iteration we'll select the smallest item from the unsorted partition and move it to the sorted partition\n",
    "\n",
    "$for(j=0;j<n-1;j++)$                      -> O(n-1)\n",
    "\n",
    "$\\quad int \\text{ } iMin=j;$              -> O(1)\n",
    "    \n",
    "$ \\quad for(i=j+1;i<n;i++)$               -> O(n-1)\n",
    "\n",
    "$\\quad \\quad \\text{if}(a[i]<a[iMin]) $    -> O(1)\n",
    "\n",
    "$\\quad \\quad \\quad iMin=i;$               -> O(1)\n",
    "\n",
    "$\\quad \\text{if}(iMin \\text{ }!=j)$       -> O(1)\n",
    "\n",
    "$\\quad \\quad swap(a[j],a[iMin]);$         -> O(1)\n",
    "\n",
    "\n",
    "|n|O(n) =O(n^2)\n",
    "        "
   ]
  },
  {
   "attachments": {},
   "cell_type": "markdown",
   "metadata": {},
   "source": [
    "### Homework\n",
    "\n",
    "#### Write the pseudocode to insertion sort and calculate the complexity\n",
    "\n",
    "$for(j=0;j<n-1;j++)$                                 ->O(n)\n",
    "\n",
    "$\\quad j=i$                                          ->O(1)\n",
    "\n",
    "$\\quad while ( j>0 \\text{ and } A[j-1]>A[j]$)  ->O(n)\n",
    "\n",
    "$\\quad \\quad swap \\text{ } A[j] \\text{ and } A[j-1]$          ->O(1)\n",
    " \n",
    "$\\quad \\quad j=j-1$                                  ->O(1)\n",
    "\n",
    "|n|O(n)->O(n^2)"
   ]
  },
  {
   "cell_type": "code",
   "execution_count": 20,
   "metadata": {},
   "outputs": [
    {
     "name": "stdout",
     "output_type": "stream",
     "text": [
      "[1, 1, 5, 6, 12, 19, 23, 34, 78, 98]\n"
     ]
    }
   ],
   "source": [
    "#Example:\n",
    "A=[1,23,34,5,6,12,78,98,1,19]\n",
    "for i in range(len(A)):\n",
    "    j=i\n",
    "    while j>0 and A[j-1]>A[j]:\n",
    "        cont=A[j-1]\n",
    "        A[j-1]=A[j]\n",
    "        A[j]=cont\n",
    "        j=j-1\n",
    "print(A)\n"
   ]
  },
  {
   "attachments": {},
   "cell_type": "markdown",
   "metadata": {},
   "source": [
    "#### Write the pseudocode of a methid that given a number n returns the list of Fibonacci numbers, from 0 to n. Calculate the complexity.\n",
    "\n",
    "$if(n=0):$\n",
    "\n",
    "$\\quad print(0)$\n",
    "\n",
    "$if(n=1):$\n",
    "\n",
    "$\\quad print(0,1)$\n",
    "\n",
    "$if(n=2):$\n",
    "\n",
    "$\\quad print(0,1,1)$\n",
    "\n",
    "$else:$\n",
    "\n",
    "$\\quad A=[0,0,1]$\n",
    "\n",
    "$\\quad while (n-3>0):$ -> O(n-3)->O(n)\n",
    "\n",
    "$\\quad \\quad number=A[-1]+A[-2]$\n",
    "\n",
    "$\\quad \\quad \\text{A append (number)}$\n",
    "\n",
    "$n-=1$\n",
    "\n",
    "$\\quad print(A)$\n",
    "\n",
    "The complexity is O(n)"
   ]
  },
  {
   "cell_type": "code",
   "execution_count": 21,
   "metadata": {},
   "outputs": [
    {
     "name": "stdout",
     "output_type": "stream",
     "text": [
      "[0, 1, 1, 2, 3]\n"
     ]
    }
   ],
   "source": [
    "#Example\n",
    "n=5\n",
    "if n==0:\n",
    "    print(0)\n",
    "elif n==1:\n",
    "    print(0,1)\n",
    "elif n==2:\n",
    "    print(0,1,1)\n",
    "else:\n",
    "    number=[0,1,1]\n",
    "    while n-3>0:\n",
    "        add=number[-1]+number[-2]\n",
    "        number.append(add)\n",
    "        n-=1\n",
    "    print(number)"
   ]
  },
  {
   "attachments": {},
   "cell_type": "markdown",
   "metadata": {},
   "source": [
    "#### Write an algorithm that finds the convex hull\n",
    "\n"
   ]
  },
  {
   "attachments": {},
   "cell_type": "markdown",
   "metadata": {},
   "source": [
    "##### Convex Hull using Jarvis’ Algorithm or Wrapping\n",
    "\n",
    "\n",
    " Algorithm:\n",
    "\n",
    "Step 1) Initialize p as leftmost point. \n",
    "\n",
    "Step 2) Do following while we don’t come back to the first (or leftmost) point. \n",
    "\n",
    "2.1) The next point q is the point, such that the triplet (p, q, r) is counter clockwise for any other point r. \n",
    "\n",
    "To find this, we simply initialize q as next point, then we traverse through all points. \n",
    "\n",
    "For any point i, if i is more counter clockwise, i.e., orientation(p, i, q) is counter clockwise, then we update q as i. \n",
    "\n",
    "Our final value of q is going to be the most counter clockwise point. \n",
    "\n",
    "2.2) next[p] = q (Store q as next of p in the output convex hull). \n",
    "\n",
    "2.3) p = q (Set p as q for next iteration).\n",
    "\n",
    "\n",
    "\n",
    "\n"
   ]
  },
  {
   "cell_type": "code",
   "execution_count": 89,
   "metadata": {},
   "outputs": [
    {
     "name": "stdout",
     "output_type": "stream",
     "text": [
      "[[ 0 10]\n",
      " [ 1  2]\n",
      " [ 2  1]\n",
      " [ 4  1]\n",
      " [ 8  2]\n",
      " [10  3]\n",
      " [ 8  5]]\n"
     ]
    },
    {
     "data": {
      "image/png": "[encoded data removed]",
      "text/plain": [
       "<Figure size 640x480 with 1 Axes>"
      ]
     },
     "metadata": {},
     "output_type": "display_data"
    }
   ],
   "source": [
    "import numpy as np\n",
    "import matplotlib.pyplot as plt\n",
    "points=np.array([[1,2],[2,3],[4,5],[0,10],[8,5],[4,1],[8,2],[10,3],[3,2],[2,1],[6,4],[4,4]])\n",
    "x=points[:,0]\n",
    "y=points[:,1]\n",
    "min_value=10**20\n",
    "\n",
    "#Sort points with me min x value\n",
    "for index in range(len(points)):\n",
    "    if points[index][0]<min_value:\n",
    "        min_index=index\n",
    "        min_value=points[index][0]\n",
    "\n",
    "bounded_points=[]\n",
    "left_point=points[min_index]\n",
    "x1,y1=left_point[0],left_point[1] #get the left point of all the points\n",
    "i=0\n",
    "while i<len(points):\n",
    "    x2,y2=points[i]\n",
    "    k=0\n",
    "    for point3 in points:\n",
    "        x3,y3=point3[0],point3[1]\n",
    "        clock=(y3-y2)*(x2-x1)-(y2-y1)*(x3-x2) #find the different slopes \n",
    "        if clock>0: #and check if they are counterclockwise \n",
    "            k+=1\n",
    "            if k==len(points)-2: # if it is counterclockwise for all the points then add the point (x1,y1) to the final\n",
    "                bounded_points.append(np.array([x1,y1]))\n",
    "                x1,y1=x2,y2\n",
    "                i=0\n",
    "                break #break the cicle and start again with x1 and y1 as the next point x2,y2\n",
    "    i+=1\n",
    "\n",
    "bounded_points=np.array(bounded_points)\n",
    "print(bounded_points)\n",
    "x_lim=bounded_points[:,0]\n",
    "y_lim=bounded_points[:,1]         \n",
    "plt.scatter(x,y)\n",
    "plt.scatter(x_lim,y_lim)\n",
    "plt.show()      \n",
    "\n"
   ]
  }
 ],
 "metadata": {
  "kernelspec": {
   "display_name": "Proba",
   "language": "python",
   "name": "python3"
  },
  "language_info": {
   "codemirror_mode": {
    "name": "ipython",
    "version": 3
   },
   "file_extension": ".py",
   "mimetype": "text/x-python",
   "name": "python",
   "nbconvert_exporter": "python",
   "pygments_lexer": "ipython3",
   "version": "3.9.16"
  },
  "orig_nbformat": 4,
  "vscode": {
   "interpreter": {
    "hash": "386a67da8db8d860de292f7014474f505a8164a977d669a32cf5b1e16dc71028"
   }
  }
 },
 "nbformat": 4,
 "nbformat_minor": 2
}
