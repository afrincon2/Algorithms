{
 "cells": [
  {
   "cell_type": "markdown",
   "id": "2808fdf9",
   "metadata": {},
   "source": [
    "# Sorting"
   ]
  },
  {
   "cell_type": "code",
   "execution_count": 1,
   "id": "b46b410f",
   "metadata": {},
   "outputs": [],
   "source": [
    "import time\n",
    "import numpy as np\n",
    "np.random.seed(0)"
   ]
  },
  {
   "cell_type": "code",
   "execution_count": 2,
   "id": "881e765c",
   "metadata": {},
   "outputs": [],
   "source": [
    "data = np.random.randint(1,10000,17000)"
   ]
  },
  {
   "cell_type": "markdown",
   "id": "7dbcaac0",
   "metadata": {},
   "source": [
    "### Insertion Sort"
   ]
  },
  {
   "cell_type": "code",
   "execution_count": 158,
   "id": "b04ff63f",
   "metadata": {},
   "outputs": [],
   "source": [
    "def insertion_sort(arr):\n",
    "    start = time.time()\n",
    "    for i in range(len(arr)):\n",
    "        j=i\n",
    "        while j>0 and arr[j-1]>arr[j]:\n",
    "            cont=arr[j-1]\n",
    "            arr[j-1]=arr[j]\n",
    "            arr[j]=cont\n",
    "            j=j-1\n",
    "    end = time.time()\n",
    "    print(\"The time of execution of above program is :\", (end-start) * 10**3, \"ms\", \"for a size of \", len(arr))\n",
    "    return arr"
   ]
  },
  {
   "cell_type": "code",
   "execution_count": 159,
   "id": "938bce08",
   "metadata": {},
   "outputs": [
    {
     "name": "stdout",
     "output_type": "stream",
     "text": [
      "The time of execution of above program is : 3.986835479736328 ms for a size of  17000\n"
     ]
    }
   ],
   "source": [
    "arr= insertion_sort(data)"
   ]
  },
  {
   "cell_type": "code",
   "execution_count": 160,
   "id": "4a6799ab",
   "metadata": {},
   "outputs": [
    {
     "data": {
      "text/plain": [
       "array([   1,    1,    2, ..., 9999, 9999, 9999])"
      ]
     },
     "execution_count": 160,
     "metadata": {},
     "output_type": "execute_result"
    }
   ],
   "source": [
    "arr"
   ]
  },
  {
   "cell_type": "markdown",
   "id": "660c72b1",
   "metadata": {},
   "source": [
    "### Merge Sort"
   ]
  },
  {
   "cell_type": "code",
   "execution_count": 152,
   "id": "49e26c66",
   "metadata": {},
   "outputs": [],
   "source": [
    "\n",
    "def merge(arr,left_arr,right_arr,mid_arr):\n",
    "    #Auxiliar array\n",
    "    new_arr = np.zeros(len(arr))\n",
    "    left1=left_arr\n",
    "    mid=mid_arr+1\n",
    "    left2=left_arr\n",
    "    while left1<=mid_arr and mid<=right_arr:\n",
    "        if arr[left1]<arr[mid]:\n",
    "            new_arr[left2]=arr[left1]\n",
    "            left1+=1\n",
    "        else:\n",
    "            new_arr[left2]=arr[mid]\n",
    "            mid+=1\n",
    "        left2+=1\n",
    "    while left1<=mid_arr:\n",
    "        new_arr[left2]=arr[left1]\n",
    "        left1+=1\n",
    "        left2+=1\n",
    "    while mid<=right_arr:\n",
    "        new_arr[left2]=arr[mid]\n",
    "        mid+=1\n",
    "        left2+=1\n",
    "    return new_arr\n",
    "    #What's the complexity in space for Merge sort?\n",
    "    #O(nlog(n))\n",
    "    #Merge, in this method I applied the actual merging."
   ]
  },
  {
   "cell_type": "code",
   "execution_count": 153,
   "id": "bbe7cf8e",
   "metadata": {},
   "outputs": [],
   "source": [
    "def merge_sort(arr,left,right):\n",
    "    if left<right:\n",
    "        merge_sort(arr,left, (left + right) // 2)\n",
    "        merge_sort(arr,((left + right) // 2) +1, right)\n",
    "        list_arr=merge(arr,left,right,(left + right) // 2)\n",
    "        for i in range(left,right + 1):\n",
    "            arr[i] = list_arr[i]\n",
    "\n",
    "    return arr\n",
    "    #This method will divide the array"
   ]
  },
  {
   "cell_type": "code",
   "execution_count": 150,
   "id": "aed116e6",
   "metadata": {},
   "outputs": [],
   "source": [
    "#This method is just to calculate the time, if you don't need it, don't worry\n",
    "def merge_algorithm(arr):\n",
    "    start = time.time()\n",
    "    merge_sort(arr,0,len(arr)-1)\n",
    "    end = time.time()\n",
    "    print(\"The time of execution of above program is :\", (end-start) * 10**3, \"ms\", \"for a size of \", len(arr))\n",
    "    return arr"
   ]
  },
  {
   "cell_type": "code",
   "execution_count": 172,
   "id": "b2a7dbef",
   "metadata": {},
   "outputs": [
    {
     "name": "stdout",
     "output_type": "stream",
     "text": [
      "Data:\n",
      "[90 86 67 32 50 33 90 94 83  2 54 50 68 79 62 18 13 11  1 22 72 25 95 31\n",
      " 30 61 33 18 64 10 80 42 72 56 22 38 85 80 79 77 31 80 66 27 20 84 28 84\n",
      " 50 18 84 12 92 99 45 29 81  5 51 96 26 43 87 40 55 14 35 68 29 51 88 86\n",
      " 72 34 77 80 79 28  9 34 25 83 92 67 44 77 17 90 83 91 56 48 60 34 99 55\n",
      " 30  9 61 59 70 17 30 50 55 89 52 39 20 21 93 53 16 39 81  8 26 23 20 50\n",
      " 36 95 88 32 78 33 75 16 17 74 72 71 41 66  7 93  7 70  5 77 93 58 82 72\n",
      " 14 26 21 79 20 99 46 44 58 93 21 81 77 25 12 56  9 88  4 99 15 41 45 73\n",
      "  9 48 68 68 93 47 13 31 68 74 88 22 83 81 69 20 98 59 99 63 68 71 19 85\n",
      " 86 50 65 71 58 15 21 38 29 15 81 29 84 57 28 46 99 96 27 66 50 56 38 31\n",
      " 68 98 98 15 40  5 27 74 75 65 21 37 63 90 23 12 63 52 44 64 40 13 99 11\n",
      " 57 51 75 40 98 85 91 90 51 27 73 71 82 69 64 96 44 44  3 43 77 41 78 49\n",
      " 55  3  3 36  9 88 48 79 76 14 26  2 44 57 41 92 47 18 15 16 47 98 28  6\n",
      " 10 22 31 31 55 76 55  9 82  9 72  3 80 92 29  2 77 55 75  2 83 76 11 14\n",
      " 38 38 46 98 64 65 80 54 40 26 79 59 55 54 19 90 18  9 61 90 87 70 27  9\n",
      "  3 38 97 38 91 49 27 66  2 44 67 18 73 40 34 12 23 51 65 33 12 43 98 71\n",
      " 37 61 97 19 82 19 23 17 62  1 71 72 37 71  3 20 93 11 85 32 65 15 89 66\n",
      " 11 19 60 17 35 65 83  2 99 41 16 54 23 38 21 27]\n",
      "The time of execution of above program is : 5.893707275390625 ms for a size of  400\n",
      "sorted data:\n",
      "[ 1  1  2  2  2  2  2  2  3  3  3  3  3  3  4  5  5  5  6  7  7  8  9  9\n",
      "  9  9  9  9  9  9  9 10 10 11 11 11 11 11 12 12 12 12 12 13 13 13 14 14\n",
      " 14 14 15 15 15 15 15 15 16 16 16 16 17 17 17 17 17 18 18 18 18 18 18 19\n",
      " 19 19 19 19 20 20 20 20 20 20 21 21 21 21 21 21 22 22 22 22 23 23 23 23\n",
      " 23 25 25 25 26 26 26 26 26 27 27 27 27 27 27 27 28 28 28 28 29 29 29 29\n",
      " 29 30 30 30 31 31 31 31 31 31 32 32 32 33 33 33 33 34 34 34 34 35 35 36\n",
      " 36 37 37 37 38 38 38 38 38 38 38 38 39 39 40 40 40 40 40 40 41 41 41 41\n",
      " 41 42 43 43 43 44 44 44 44 44 44 44 45 45 46 46 46 47 47 47 48 48 48 49\n",
      " 49 50 50 50 50 50 50 50 51 51 51 51 51 52 52 53 54 54 54 54 55 55 55 55\n",
      " 55 55 55 55 56 56 56 56 57 57 57 58 58 58 59 59 59 60 60 61 61 61 61 62\n",
      " 62 63 63 63 64 64 64 64 65 65 65 65 65 65 66 66 66 66 66 67 67 67 68 68\n",
      " 68 68 68 68 68 69 69 70 70 70 71 71 71 71 71 71 71 72 72 72 72 72 72 72\n",
      " 73 73 73 74 74 74 75 75 75 75 76 76 76 77 77 77 77 77 77 77 78 78 79 79\n",
      " 79 79 79 79 80 80 80 80 80 80 81 81 81 81 81 82 82 82 82 83 83 83 83 83\n",
      " 83 84 84 84 84 85 85 85 85 86 86 86 87 87 88 88 88 88 88 89 89 90 90 90\n",
      " 90 90 90 90 91 91 91 92 92 92 92 93 93 93 93 93 93 94 95 95 96 96 96 97\n",
      " 97 98 98 98 98 98 98 98 99 99 99 99 99 99 99 99]\n"
     ]
    }
   ],
   "source": [
    "data = np.random.randint(1,100,400)\n",
    "print(\"Data:\")\n",
    "print(data)\n",
    "arr=merge_algorithm(data)\n",
    "print(\"sorted data:\")\n",
    "print(arr)"
   ]
  },
  {
   "cell_type": "code",
   "execution_count": 10,
   "id": "65df9aa5",
   "metadata": {},
   "outputs": [
    {
     "name": "stdout",
     "output_type": "stream",
     "text": [
      "The time of execution of above program is : 266.1881446838379 ms for a size of  17000\n"
     ]
    },
    {
     "data": {
      "text/plain": [
       "array([9180, 3146, 2272, ..., 6832, 1872, 2844])"
      ]
     },
     "execution_count": 10,
     "metadata": {},
     "output_type": "execute_result"
    }
   ],
   "source": [
    "merge_algorithm(data)"
   ]
  },
  {
   "cell_type": "markdown",
   "id": "9d4798e7",
   "metadata": {},
   "source": [
    "### Algorithm of your choice\n",
    "\n",
    "Know implement another algorithm, anyone works. Use the same size of data."
   ]
  },
  {
   "cell_type": "code",
   "execution_count": 174,
   "id": "8642b91f",
   "metadata": {},
   "outputs": [
    {
     "name": "stdout",
     "output_type": "stream",
     "text": [
      "Antes de ordenarlo: \n",
      "[5, 1, 2, 1, 1, 3, 5, 1, 5, 1, 99, 231, 234, 12, 121, 312, 123, 123, 12, 312, 321, 312, 31, 23, 12, 3123, 123]\n",
      "Después de ordenarlo: \n",
      "[1, 1, 1, 1, 1, 2, 3, 5, 5, 5, 12, 12, 12, 23, 31, 99, 121, 123, 123, 123, 231, 234, 312, 312, 312, 321, 3123]\n"
     ]
    }
   ],
   "source": [
    "#QuickSort\n",
    "def quicksort(arreglo, izquierda, derecha):\n",
    "    if izquierda < derecha:\n",
    "        indiceParticion = particion(arreglo, izquierda, derecha)\n",
    "        quicksort(arreglo, izquierda, indiceParticion)\n",
    "        quicksort(arreglo, indiceParticion + 1, derecha)\n",
    "\n",
    "def particion(arreglo, izquierda, derecha):\n",
    "    pivote = arreglo[izquierda]\n",
    "    while True:\n",
    "        # Mientras cada elemento desde la izquierda esté en orden (sea menor que el\n",
    "        # pivote) continúa avanzando el índice\n",
    "        while arreglo[izquierda] < pivote:\n",
    "            izquierda += 1\n",
    "\n",
    "        # Mientras cada elemento desde la derecha esté en orden (sea mayor que el\n",
    "        # pivote) continúa disminuyendo el índice\n",
    "        while arreglo[derecha] > pivote:\n",
    "            derecha -= 1\n",
    "\n",
    "        \"\"\"\n",
    "            Si la izquierda es mayor o igual que la derecha significa que no\n",
    "            necesitamos hacer ningún intercambio\n",
    "            de variables, pues los elementos ya están en orden (al menos en esta\n",
    "            iteración)\n",
    "        \"\"\"\n",
    "        if izquierda >= derecha:\n",
    "            # Indicar \"en dónde nos quedamos\" para poder dividir el arreglo de nuevo\n",
    "            # y ordenar los demás elementos\n",
    "            return derecha\n",
    "        else:\n",
    "            # Nota: yo sé que el else no hace falta por el return de arriba, pero así el algoritmo es más claro\n",
    "            \"\"\"\n",
    "                Si las variables quedaron \"lejos\" (es decir, la izquierda no superó ni\n",
    "                alcanzó a la derecha)\n",
    "                significa que se detuvieron porque encontraron un valor que no estaba\n",
    "                en orden, así que lo intercambiamos\n",
    "            \"\"\"\n",
    "            arreglo[izquierda], arreglo[derecha] = arreglo[derecha], arreglo[izquierda]\n",
    "            \"\"\"\n",
    "                Ya intercambiamos, pero seguimos avanzando los índices\n",
    "            \"\"\"\n",
    "            izquierda += 1\n",
    "            derecha -= 1\n",
    "\"\"\"\n",
    "Modo de uso:\n",
    "\"\"\"\n",
    "\n",
    "arreglo = [5, 1, 2, 1, 1, 3, 5, 1, 5, 1, 99, 231, 234, 12, 121,\n",
    "           312, 123, 123, 12, 312, 321, 312, 31, 23, 12, 3123, 123, ]\n",
    "print(\"Antes de ordenarlo: \")\n",
    "print(arreglo)\n",
    "quicksort(arreglo, 0, len(arreglo) - 1)\n",
    "print(\"Después de ordenarlo: \")\n",
    "print(arreglo)"
   ]
  },
  {
   "cell_type": "markdown",
   "id": "7a20750b",
   "metadata": {},
   "source": [
    "### Conclusions\n",
    "\n",
    "So, the algorithm matters! Even when the result is the same, the time it takes is important. We are in the era of Big Data, if we are not careful, some processing might take centuries!"
   ]
  },
  {
   "cell_type": "code",
   "execution_count": null,
   "id": "a400d5f9",
   "metadata": {},
   "outputs": [],
   "source": []
  }
 ],
 "metadata": {
  "kernelspec": {
   "display_name": "Proba",
   "language": "python",
   "name": "python3"
  },
  "language_info": {
   "codemirror_mode": {
    "name": "ipython",
    "version": 3
   },
   "file_extension": ".py",
   "mimetype": "text/x-python",
   "name": "python",
   "nbconvert_exporter": "python",
   "pygments_lexer": "ipython3",
   "version": "3.9.16"
  },
  "vscode": {
   "interpreter": {
    "hash": "386a67da8db8d860de292f7014474f505a8164a977d669a32cf5b1e16dc71028"
   }
  }
 },
 "nbformat": 4,
 "nbformat_minor": 5
}
