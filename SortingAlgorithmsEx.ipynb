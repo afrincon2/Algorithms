{
 "cells": [
  {
   "cell_type": "markdown",
   "id": "2808fdf9",
   "metadata": {},
   "source": [
    "# Sorting"
   ]
  },
  {
   "cell_type": "code",
   "execution_count": 1,
   "id": "b46b410f",
   "metadata": {},
   "outputs": [],
   "source": [
    "import time\n",
    "import numpy as np\n",
    "np.random.seed(0)"
   ]
  },
  {
   "cell_type": "code",
   "execution_count": 2,
   "id": "881e765c",
   "metadata": {},
   "outputs": [],
   "source": [
    "data = np.random.randint(1,10000,17000)"
   ]
  },
  {
   "cell_type": "markdown",
   "id": "7dbcaac0",
   "metadata": {},
   "source": [
    "### Insertion Sort"
   ]
  },
  {
   "cell_type": "code",
   "execution_count": 158,
   "id": "b04ff63f",
   "metadata": {},
   "outputs": [],
   "source": [
    "def insertion_sort(arr):\n",
    "    start = time.time()\n",
    "    for i in range(len(arr)):\n",
    "        j=i\n",
    "        while j>0 and arr[j-1]>arr[j]:\n",
    "            cont=arr[j-1]\n",
    "            arr[j-1]=arr[j]\n",
    "            arr[j]=cont\n",
    "            j=j-1\n",
    "    end = time.time()\n",
    "    print(\"The time of execution of above program is :\", (end-start) * 10**3, \"ms\", \"for a size of \", len(arr))\n",
    "    return arr"
   ]
  },
  {
   "cell_type": "code",
   "execution_count": 159,
   "id": "938bce08",
   "metadata": {},
   "outputs": [
    {
     "name": "stdout",
     "output_type": "stream",
     "text": [
      "The time of execution of above program is : 3.986835479736328 ms for a size of  17000\n"
     ]
    }
   ],
   "source": [
    "arr= insertion_sort(data)"
   ]
  },
  {
   "cell_type": "code",
   "execution_count": 160,
   "id": "4a6799ab",
   "metadata": {},
   "outputs": [
    {
     "data": {
      "text/plain": [
       "array([   1,    1,    2, ..., 9999, 9999, 9999])"
      ]
     },
     "execution_count": 160,
     "metadata": {},
     "output_type": "execute_result"
    }
   ],
   "source": [
    "arr"
   ]
  },
  {
   "cell_type": "markdown",
   "id": "660c72b1",
   "metadata": {},
   "source": [
    "### Merge Sort"
   ]
  },
  {
   "cell_type": "code",
   "execution_count": 152,
   "id": "49e26c66",
   "metadata": {},
   "outputs": [],
   "source": [
    "#I used many methods, if you guys need more or less methods, feel free to change everything.\n",
    "def merge(arr,left_arr,right_arr,mid_arr):\n",
    "    #Auxiliar array\n",
    "    new_arr = np.zeros(len(arr))\n",
    "    left1=left_arr\n",
    "    mid=mid_arr+1\n",
    "    left2=left_arr\n",
    "    while left1<=mid_arr and mid<=right_arr:\n",
    "        if arr[left1]<arr[mid]:\n",
    "            new_arr[left2]=arr[left1]\n",
    "            left1+=1\n",
    "        else:\n",
    "            new_arr[left2]=arr[mid]\n",
    "            mid+=1\n",
    "        left2+=1\n",
    "    while left1<=mid_arr:\n",
    "        new_arr[left2]=arr[left1]\n",
    "        left1+=1\n",
    "        left2+=1\n",
    "    while mid<=right_arr:\n",
    "        new_arr[left2]=arr[mid]\n",
    "        mid+=1\n",
    "        left2+=1\n",
    "    return new_arr\n",
    "    #What's the complexity in space for Merge sort?\n",
    "    #Merge, in this method I applied the actual merging.\n",
    "    #I did it with the indices "
   ]
  },
  {
   "cell_type": "code",
   "execution_count": 153,
   "id": "bbe7cf8e",
   "metadata": {},
   "outputs": [],
   "source": [
    "def merge_sort(arr,left,right):\n",
    "    if left<right:\n",
    "        merge_sort(arr,left, (left + right) // 2)\n",
    "        merge_sort(arr,((left + right) // 2) +1, right)\n",
    "        list_arr=merge(arr,left,right,(left + right) // 2)\n",
    "        for i in range(left,right + 1):\n",
    "            arr[i] = list_arr[i]\n",
    "\n",
    "    return arr\n",
    "    #This method will divide the array"
   ]
  },
  {
   "cell_type": "code",
   "execution_count": 150,
   "id": "aed116e6",
   "metadata": {},
   "outputs": [],
   "source": [
    "#This method is just to calculate the time, if you don't need it, don't worry\n",
    "def merge_algorithm(arr):\n",
    "    start = time.time()\n",
    "    merge_sort(arr,0,len(arr)-1)\n",
    "    end = time.time()\n",
    "    print(\"The time of execution of above program is :\", (end-start) * 10**3, \"ms\", \"for a size of \", len(arr))\n",
    "    return arr"
   ]
  },
  {
   "cell_type": "code",
   "execution_count": 163,
   "id": "b2a7dbef",
   "metadata": {},
   "outputs": [
    {
     "name": "stdout",
     "output_type": "stream",
     "text": [
      "[181 375 828 ... 241  68 406]\n",
      "[ 1  2  2  3  3  4  4  4  4  5  5  5  5  7  8  8  9  9 10 10 12 13 13 15\n",
      " 16 16 18 18 19 20 21 21 22 22 23 24 25 25 25 26 26 27 27 27 28 28 28 28\n",
      " 29 29 30 30 30 31 31 31 31 32 32 33 34 34 35 35 36 36 36 36 37 37 38 38\n",
      " 39 40 40 41 41 42 42 43 43 44 44 44 45 46 47 47 49 49 49 50 50 53 55 55\n",
      " 56 57 57 59]\n",
      "The time of execution of above program is : 19.93250846862793 ms for a size of  2000\n"
     ]
    }
   ],
   "source": [
    "data = np.random.randint(1,1000,2000)\n",
    "left = 0\n",
    "right = len(data) - 1\n",
    "start = time.time()\n",
    "print(data)\n",
    "arr= merge_sort(data,left,right)\n",
    "end = time.time()\n",
    "print(arr[:100])\n",
    "print(\"The time of execution of above program is :\", (end-start) * 10**3, \"ms\", \"for a size of \", len(arr))"
   ]
  },
  {
   "cell_type": "code",
   "execution_count": 10,
   "id": "65df9aa5",
   "metadata": {},
   "outputs": [
    {
     "name": "stdout",
     "output_type": "stream",
     "text": [
      "The time of execution of above program is : 266.1881446838379 ms for a size of  17000\n"
     ]
    },
    {
     "data": {
      "text/plain": [
       "array([9180, 3146, 2272, ..., 6832, 1872, 2844])"
      ]
     },
     "execution_count": 10,
     "metadata": {},
     "output_type": "execute_result"
    }
   ],
   "source": [
    "merge_algorithm(data)"
   ]
  },
  {
   "cell_type": "markdown",
   "id": "9d4798e7",
   "metadata": {},
   "source": [
    "### Algorithm of your choice\n",
    "\n",
    "Know implement another algorithm, anyone works. Use the same size of data."
   ]
  },
  {
   "cell_type": "code",
   "execution_count": null,
   "id": "8642b91f",
   "metadata": {},
   "outputs": [],
   "source": []
  },
  {
   "cell_type": "markdown",
   "id": "7a20750b",
   "metadata": {},
   "source": [
    "### Conclusions\n",
    "\n",
    "So, the algorithm matters! Even when the result is the same, the time it takes is important. We are in the era of Big Data, if we are not careful, some processing might take centuries!"
   ]
  },
  {
   "cell_type": "code",
   "execution_count": null,
   "id": "a400d5f9",
   "metadata": {},
   "outputs": [],
   "source": []
  }
 ],
 "metadata": {
  "kernelspec": {
   "display_name": "Proba",
   "language": "python",
   "name": "python3"
  },
  "language_info": {
   "codemirror_mode": {
    "name": "ipython",
    "version": 3
   },
   "file_extension": ".py",
   "mimetype": "text/x-python",
   "name": "python",
   "nbconvert_exporter": "python",
   "pygments_lexer": "ipython3",
   "version": "3.9.16"
  },
  "vscode": {
   "interpreter": {
    "hash": "386a67da8db8d860de292f7014474f505a8164a977d669a32cf5b1e16dc71028"
   }
  }
 },
 "nbformat": 4,
 "nbformat_minor": 5
}
