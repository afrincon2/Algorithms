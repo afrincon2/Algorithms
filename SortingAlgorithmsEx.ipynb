{
 "cells": [
  {
   "cell_type": "markdown",
   "id": "2808fdf9",
   "metadata": {},
   "source": [
    "# Sorting"
   ]
  },
  {
   "cell_type": "code",
   "execution_count": 4,
   "id": "b46b410f",
   "metadata": {},
   "outputs": [],
   "source": [
    "import time\n",
    "import numpy as np\n",
    "np.random.seed(0)"
   ]
  },
  {
   "cell_type": "code",
   "execution_count": 5,
   "id": "881e765c",
   "metadata": {},
   "outputs": [],
   "source": [
    "data = np.random.randint(1,10000,17000)"
   ]
  },
  {
   "cell_type": "markdown",
   "id": "7dbcaac0",
   "metadata": {},
   "source": [
    "### Insertion Sort"
   ]
  },
  {
   "cell_type": "code",
   "execution_count": 8,
   "id": "b04ff63f",
   "metadata": {},
   "outputs": [],
   "source": [
    "def insertion_sort(arr):\n",
    "    start = time.time()\n",
    "    for i in range(len(arr)):\n",
    "        j=i\n",
    "        while j>0 and arr[j-1]>arr[j]:\n",
    "            cont=arr[j-1]\n",
    "            arr[j-1]=arr[j]\n",
    "            arr[j]=cont\n",
    "            j=j-1\n",
    "    end = time.time()\n",
    "    print(\"The time of execution of above program is :\", (end-start) * 10**3, \"ms\", \"for a size of \", len(arr))\n",
    "    return arr"
   ]
  },
  {
   "cell_type": "code",
   "execution_count": 9,
   "id": "938bce08",
   "metadata": {},
   "outputs": [
    {
     "name": "stdout",
     "output_type": "stream",
     "text": [
      "The time of execution of above program is : 0.0 ms for a size of  17000\n"
     ]
    }
   ],
   "source": [
    "arr= insertion_sort(data)"
   ]
  },
  {
   "cell_type": "code",
   "execution_count": 10,
   "id": "4a6799ab",
   "metadata": {},
   "outputs": [
    {
     "data": {
      "text/plain": [
       "array([   1,    1,    1, ..., 9999, 9999, 9999])"
      ]
     },
     "execution_count": 10,
     "metadata": {},
     "output_type": "execute_result"
    }
   ],
   "source": [
    "arr"
   ]
  },
  {
   "cell_type": "markdown",
   "id": "660c72b1",
   "metadata": {},
   "source": [
    "### Merge Sort"
   ]
  },
  {
   "cell_type": "code",
   "execution_count": 11,
   "id": "49e26c66",
   "metadata": {},
   "outputs": [],
   "source": [
    "\n",
    "def merge(arr,left_arr,right_arr,mid_arr):\n",
    "    #Auxiliar array\n",
    "    new_arr = np.zeros(len(arr))\n",
    "    left1=left_arr\n",
    "    mid=mid_arr+1\n",
    "    left2=left_arr\n",
    "    while left1<=mid_arr and mid<=right_arr:\n",
    "        if arr[left1]<arr[mid]:\n",
    "            new_arr[left2]=arr[left1]\n",
    "            left1+=1\n",
    "        else:\n",
    "            new_arr[left2]=arr[mid]\n",
    "            mid+=1\n",
    "        left2+=1\n",
    "    while left1<=mid_arr:\n",
    "        new_arr[left2]=arr[left1]\n",
    "        left1+=1\n",
    "        left2+=1\n",
    "    while mid<=right_arr:\n",
    "        new_arr[left2]=arr[mid]\n",
    "        mid+=1\n",
    "        left2+=1\n",
    "    return new_arr\n",
    "    #What's the complexity in space for Merge sort?\n",
    "    #O(nlog(n))\n",
    "    #Merge, in this method I applied the actual merging."
   ]
  },
  {
   "cell_type": "code",
   "execution_count": 12,
   "id": "bbe7cf8e",
   "metadata": {},
   "outputs": [],
   "source": [
    "def merge_sort(arr,left,right):\n",
    "    if left<right:\n",
    "        merge_sort(arr,left, (left + right) // 2)\n",
    "        merge_sort(arr,((left + right) // 2) +1, right)\n",
    "        list_arr=merge(arr,left,right,(left + right) // 2)\n",
    "        for i in range(left,right + 1):\n",
    "            arr[i] = list_arr[i]\n",
    "\n",
    "    return arr\n",
    "    #This method will divide the array"
   ]
  },
  {
   "cell_type": "code",
   "execution_count": 13,
   "id": "aed116e6",
   "metadata": {},
   "outputs": [],
   "source": [
    "#This method is just to calculate the time, if you don't need it, don't worry\n",
    "def merge_algorithm(arr):\n",
    "    start = time.time()\n",
    "    merge_sort(arr,0,len(arr)-1)\n",
    "    end = time.time()\n",
    "    print(\"The time of execution of above program is :\", (end-start) * 10**3, \"ms\", \"for a size of \", len(arr))\n",
    "    return arr"
   ]
  },
  {
   "cell_type": "code",
   "execution_count": 14,
   "id": "b2a7dbef",
   "metadata": {},
   "outputs": [
    {
     "name": "stdout",
     "output_type": "stream",
     "text": [
      "Data:\n",
      "[   1    1    1 ... 9999 9999 9999]\n",
      "The time of execution of above program is : 159.93547439575195 ms for a size of  17000\n",
      "sorted data:\n",
      "[   1    1    1 ... 9999 9999 9999]\n"
     ]
    }
   ],
   "source": [
    "\n",
    "print(\"Data:\")\n",
    "print(data)\n",
    "arr=merge_algorithm(data)\n",
    "print(\"sorted data:\")\n",
    "print(arr)"
   ]
  },
  {
   "cell_type": "code",
   "execution_count": 15,
   "id": "65df9aa5",
   "metadata": {},
   "outputs": [
    {
     "name": "stdout",
     "output_type": "stream",
     "text": [
      "The time of execution of above program is : 152.0097255706787 ms for a size of  17000\n"
     ]
    },
    {
     "data": {
      "text/plain": [
       "array([   1,    1,    1, ..., 9999, 9999, 9999])"
      ]
     },
     "execution_count": 15,
     "metadata": {},
     "output_type": "execute_result"
    }
   ],
   "source": [
    "merge_algorithm(data)"
   ]
  },
  {
   "cell_type": "markdown",
   "id": "9d4798e7",
   "metadata": {},
   "source": [
    "### Algorithm of your choice\n",
    "\n",
    "Know implement another algorithm, anyone works. Use the same size of data."
   ]
  },
  {
   "cell_type": "code",
   "execution_count": 6,
   "id": "8642b91f",
   "metadata": {},
   "outputs": [
    {
     "name": "stdout",
     "output_type": "stream",
     "text": [
      "Antes de ordenarlo: \n",
      "[2733 9846 3265 ... 7788 4911 5875]\n",
      "Después de ordenarlo: \n",
      "[   1    1    1 ... 9999 9999 9999]\n"
     ]
    }
   ],
   "source": [
    "#QuickSort\n",
    "def quicksort(arr,left, right):\n",
    "    if left < right:\n",
    "        indiceParticion = particion(arr, left, right)\n",
    "        quicksort(arr, left, indiceParticion)\n",
    "        quicksort(arr, indiceParticion + 1, right)\n",
    "\n",
    "def particion(arr, left, right):\n",
    "    pivote = arr[left]\n",
    "    while True:\n",
    "        # Mientras cada elemento desde la izquierda esté en orden (sea menor que el pivote) continúa avanzando el índice\n",
    "        # As long as each element from the left is in order (be less than the pivot) continues to advance the index\n",
    "        while arr[left] < pivote:\n",
    "            left += 1\n",
    "\n",
    "        # Mientras cada elemento desde la derecha esté en orden (sea mayor que el pivote) continúa disminuyendo el índice\n",
    "        # As long as each element from the right is in order (is greater than the pivot) continues to decline the index\n",
    "        while arr[right] > pivote:\n",
    "            right -= 1\n",
    "\n",
    "        \"\"\"\n",
    "            Si la izquierda es mayor o igual que la derecha significa que nonecesitamos hacer ningún intercambio\n",
    "            de variables, pues los elementos ya están en orden (al menos en estaiteración)\n",
    "\n",
    "            If the left is greater than or equal to the right it means that we do not need to do any exchange \n",
    "            of variables, because the elements are already in order (at least in this iteration)\n",
    "        \"\"\"\n",
    "        if left >= right:\n",
    "            # Indicar \"en dónde nos quedamos\" para poder dividir el arreglo de nuevo y ordenar los demás elementos\n",
    "            # Indicate \"where we stay\" to be able to divide the arrangement again and order the other elements\n",
    "            return right\n",
    "        else:\n",
    "            # Nota: yo sé que el else no hace falta por el return de arriba, pero así el algoritmo es más claro\n",
    "            # Note: I know that the else is not needed by the return above, but this way the algorithm is clearer\n",
    "            \"\"\"\n",
    "                Si las variables quedaron \"lejos\" (es decir, la izquierda no superó ni alcanzó a la derecha) significa\n",
    "                que se detuvieron porque encontraron un valor que no estabaen orden, así que lo intercambiamos\n",
    "\n",
    "                If the variables were \"far away\" (i.e. the left did not overcome or reach the right) it means that \n",
    "                they stopped because they found a value that was not in order, so we exchanged it\n",
    "            \"\"\"\n",
    "            arr[left], arr[right] = arr[right], arr[left]\n",
    "            \"\"\"\n",
    "                Ya intercambiamos, pero seguimos avanzando los índices\n",
    "                We already exchanged, but we continue to advance the indices\n",
    "            \"\"\"\n",
    "            left += 1\n",
    "            right -= 1\n",
    "\n",
    "\n",
    "print(\"Antes de ordenarlo: \")\n",
    "print(data)\n",
    "quicksort(data, 0, len(data) - 1)\n",
    "print(\"Después de ordenarlo: \")\n",
    "print(data)"
   ]
  },
  {
   "cell_type": "markdown",
   "id": "7a20750b",
   "metadata": {},
   "source": [
    "### Conclusions\n",
    "\n",
    "So, the algorithm matters! Even when the result is the same, the time it takes is important. We are in the era of Big Data, if we are not careful, some processing might take centuries!"
   ]
  },
  {
   "cell_type": "code",
   "execution_count": null,
   "id": "a400d5f9",
   "metadata": {},
   "outputs": [],
   "source": []
  }
 ],
 "metadata": {
  "kernelspec": {
   "display_name": "Proba",
   "language": "python",
   "name": "python3"
  },
  "language_info": {
   "codemirror_mode": {
    "name": "ipython",
    "version": 3
   },
   "file_extension": ".py",
   "mimetype": "text/x-python",
   "name": "python",
   "nbconvert_exporter": "python",
   "pygments_lexer": "ipython3",
   "version": "3.9.16"
  },
  "vscode": {
   "interpreter": {
    "hash": "386a67da8db8d860de292f7014474f505a8164a977d669a32cf5b1e16dc71028"
   }
  }
 },
 "nbformat": 4,
 "nbformat_minor": 5
}
