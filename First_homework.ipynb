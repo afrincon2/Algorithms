import matplotlib.pyplot as plt
import numpy as np
#First Question
def TA(n):
    return 1000*n

def TB(n):
    return 200*(n*np.log(n))

def TC(n):
    return 10*(n**2)

def TD(n):
    return 2**n

x=np.arange(0.1,400,1)
print(x)
TA_y=TA(x)
TB_y=TB(x)
TC_y=TC(x)
TD_y=TD(x)


plt.ylim(0,1000000)
plt.plot(x,TA_y,label="TA")
plt.plot(x,TB_y,label="TB")
plt.plot(x,TC_y,label="TC")
plt.plot(x,TD_y,label="TD")
plt.xlabel("n")
plt.ylabel("f(n)")
plt.legend()
plt.show()

print("The best one is TA")